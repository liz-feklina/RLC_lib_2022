{
 "cells": [
  {
   "cell_type": "markdown",
   "metadata": {},
   "source": [
    "### Импорты"
   ]
  },
  {
   "cell_type": "code",
   "execution_count": 5,
   "metadata": {},
   "outputs": [],
   "source": [
    "from pymorphy2 import MorphAnalyzer\n",
    "morph = MorphAnalyzer()"
   ]
  },
  {
   "cell_type": "code",
   "execution_count": 6,
   "metadata": {},
   "outputs": [],
   "source": [
    "import requests\n",
    "from pprint import pprint\n",
    "import time\n",
    "from bs4 import BeautifulSoup\n",
    "import re\n",
    "from collections import defaultdict as dd\n",
    "import copy\n",
    "from tqdm import tqdm"
   ]
  },
  {
   "cell_type": "code",
   "execution_count": 7,
   "metadata": {},
   "outputs": [],
   "source": [
    "session = requests.session()"
   ]
  },
  {
   "cell_type": "code",
   "execution_count": 8,
   "metadata": {},
   "outputs": [],
   "source": [
    "from fake_useragent import UserAgent\n",
    "ua = UserAgent(verify_ssl=False)\n",
    "headers = {'User-Agent': ua.random}\n",
    "#print(headers)"
   ]
  },
  {
   "cell_type": "code",
   "execution_count": 9,
   "metadata": {},
   "outputs": [],
   "source": [
    "import random\n",
    "import json\n",
    "import pandas as pd\n",
    "from collections import Counter"
   ]
  },
  {
   "cell_type": "code",
   "execution_count": 10,
   "metadata": {},
   "outputs": [],
   "source": [
    "import string\n",
    "import nltk\n",
    "from copy import copy\n",
    "import matplotlib.pyplot as plt"
   ]
  },
  {
   "cell_type": "code",
   "execution_count": 11,
   "metadata": {},
   "outputs": [],
   "source": [
    "# форма поискового запроса к корпусу\n",
    "req1 = 'http://web-corpora.net/RLC/search/?exact_word=&wordform%5B%5D=&lex%5B%5D=&grammar%5B%5D=&errors%5B%5D='\n",
    "req2 = '&from%5B%5D=1&to%5B%5D=1&wordform%5B%5D=&lex%5B%5D=&grammar%5B%5D=&errors%5B%5D=&lex_search=Search&date1=&date2=&gender=any&mode=any&background=any&language%5B%5D=fin&format=full&per_page=50&expand=%2B-1&page='\n",
    "\n",
    "# откуда брать информацию об ошибке\n",
    "search = 'http://web-corpora.net/RLC/document-annotations/search?document='"
   ]
  },
  {
   "cell_type": "code",
   "execution_count": 12,
   "metadata": {},
   "outputs": [],
   "source": [
    "# функция, создающая запрос по типу ошибки (для нескольких ищет вхождения с хотя бы одной из списка)\n",
    "def create_req(error):\n",
    "    if type(error) == str:\n",
    "        return req1 + error + req2\n",
    "    elif type(error) == list:\n",
    "        return req1 +'('+'%7C'.join(error) + ')' + req2"
   ]
  },
  {
   "cell_type": "markdown",
   "metadata": {},
   "source": [
    "## Краулеры"
   ]
  },
  {
   "cell_type": "markdown",
   "metadata": {},
   "source": [
    "### Обкачиваем страницу с типами ошибок"
   ]
  },
  {
   "cell_type": "code",
   "execution_count": 9,
   "metadata": {},
   "outputs": [
    {
     "data": {
      "text/plain": [
       "'\\n\\n<!DOCTYPE html>\\n<html>\\n<head lang=\"en\">\\n    <meta charset=\"UTF-8\">\\n    <title>ERROR TAGS</title>\\n    <script src=\"/RLC/static/js/jquery.js\"></script>\\n    <link href=\"/RLC/static/css/bootstrap.flatly.css\" rel=\"stylesheet\">\\n    <script src=\"/RLC/static/js/bootstrap.min.js\"></script>\\n    <link rel=\"shortcut icon\" href=\"/RLC/static/img/favicon.ico\">\\n          <link href=\"/RLC/static/css/style.css\" rel=\"stylesheet\">\\n          <link href=\"/RLC/static/css/styles.css\" rel=\"stylesheet\">\\n\\t<script language=\"JavaScript\" src=\"/RLC/static/js/gramsel.js\"></script>\\n\\t<script language=\"JavaScript\" src=\"/RLC/static/js/urlprocessor.js\"></script>\\n\\n</head>\\n<body onLoad=\"InitWindow()\">\\n<div class=\"container\">\\n<div class=\"row\" style=\"font-size: smaller\">\\n\\n  <form name=\"gramForm\" id=\"gramForm\" action=\"\">\\n    <div class=\"row\">\\n        <div class=\"col-sm-4\">\\n<div class=\"panel panel-default\">\\n          <div class=\"panel-heading\">\\n            <h3 title=\"Invert\" class=\"panel-title gr_inv activeA grammar\" onClick='"
      ]
     },
     "execution_count": 9,
     "metadata": {},
     "output_type": "execute_result"
    }
   ],
   "source": [
    "response = session.get('http://web-corpora.net/RLC/search/errsel')\n",
    "\n",
    "response.text[:1000]"
   ]
  },
  {
   "cell_type": "code",
   "execution_count": 10,
   "metadata": {},
   "outputs": [],
   "source": [
    "soup = BeautifulSoup(response.text, 'html.parser')"
   ]
  },
  {
   "cell_type": "code",
   "execution_count": 11,
   "metadata": {},
   "outputs": [],
   "source": [
    "sections = []\n",
    "error_types = []"
   ]
  },
  {
   "cell_type": "code",
   "execution_count": 12,
   "metadata": {},
   "outputs": [],
   "source": [
    "sections_html = soup.find_all('h3', {'title': \"Invert\"})"
   ]
  },
  {
   "cell_type": "code",
   "execution_count": 13,
   "metadata": {},
   "outputs": [],
   "source": [
    "error_types_html = soup.find_all('input', {'type': \"checkbox\"})"
   ]
  },
  {
   "cell_type": "code",
   "execution_count": 14,
   "metadata": {},
   "outputs": [],
   "source": [
    "sections = [s.text for s in sections_html]"
   ]
  },
  {
   "cell_type": "code",
   "execution_count": 15,
   "metadata": {},
   "outputs": [
    {
     "data": {
      "text/plain": [
       "[<input id=\"orphograph\" name=\"orpho\" type=\"checkbox\" value=\"Graph\"/>,\n",
       " <input id=\"orphohyphen\" name=\"orpho\" type=\"checkbox\" value=\"Hyphen\"/>,\n",
       " <input id=\"orphospace\" name=\"orpho\" type=\"checkbox\" value=\"Space\"/>,\n",
       " <input id=\"orphoortho\" name=\"orpho\" type=\"checkbox\" value=\"Ortho\"/>,\n",
       " <input id=\"orphotranslit\" name=\"orpho\" type=\"checkbox\" value=\"Translit\"/>]"
      ]
     },
     "execution_count": 15,
     "metadata": {},
     "output_type": "execute_result"
    }
   ],
   "source": [
    "error_types_html[:5]"
   ]
  },
  {
   "cell_type": "code",
   "execution_count": 16,
   "metadata": {},
   "outputs": [],
   "source": [
    "error_types = []\n",
    "\n",
    "er_name = error_types_html[0]['name']\n",
    "er_list = []\n",
    "for er in error_types_html:\n",
    "    if er['id'] not in ['anyerror', 'allerrors']:\n",
    "        if er['name'] == er_name:\n",
    "            er_list.append(er['value'])\n",
    "        else:\n",
    "            error_types.append(er_list.copy())\n",
    "            er_list = []\n",
    "            er_list.append(er['value'])\n",
    "            er_name = er['name']\n",
    "error_types.append(er_list.copy())"
   ]
  },
  {
   "cell_type": "code",
   "execution_count": 17,
   "metadata": {},
   "outputs": [
    {
     "data": {
      "text/plain": [
       "[['Graph', 'Hyphen', 'Space', 'Ortho', 'Translit', 'Misspell'],\n",
       " ['lex', 'CS', 'Par', 'Idiom', 'Prep'],\n",
       " ['Constr', 'Com'],\n",
       " ['Deriv', 'Infl', 'Num', 'Gender', 'Altern', 'Morpho'],\n",
       " ['Transfer', 'Not-clear', 'Miss', 'Extra', 'Subst', 'Transp', 'Disc'],\n",
       " ['Asp',\n",
       "  'ArgStr',\n",
       "  'Passive',\n",
       "  'Tense',\n",
       "  'Mode',\n",
       "  'Refl',\n",
       "  'AgrNum',\n",
       "  'AgrCase',\n",
       "  'AgrGender',\n",
       "  'AgrPers',\n",
       "  'AgrGerund',\n",
       "  'Gov',\n",
       "  'Ref',\n",
       "  'Conj',\n",
       "  'WO',\n",
       "  'Neg',\n",
       "  'GenNeg',\n",
       "  'Aux',\n",
       "  'Brev',\n",
       "  'Syntax']]"
      ]
     },
     "execution_count": 17,
     "metadata": {},
     "output_type": "execute_result"
    }
   ],
   "source": [
    "error_types"
   ]
  },
  {
   "cell_type": "code",
   "execution_count": 18,
   "metadata": {},
   "outputs": [
    {
     "data": {
      "text/plain": [
       "['Spelling errors',\n",
       " 'Lexical errors',\n",
       " 'Collocation errors',\n",
       " 'Morphological errors',\n",
       " 'Additional tags',\n",
       " 'Syntax errors']"
      ]
     },
     "execution_count": 18,
     "metadata": {},
     "output_type": "execute_result"
    }
   ],
   "source": [
    "sections"
   ]
  },
  {
   "cell_type": "markdown",
   "metadata": {},
   "source": [
    "### Узнаём частоту каждого типа ошибки\n",
    "\n",
    "(но надо иметь в виду, что на одном слове может быть несколько тегов ошибок из одной категории, а значит, это распределение не даёт нам точного числа ошибок из каждой категории целиком, ведь их нельзя просто сложить)"
   ]
  },
  {
   "cell_type": "code",
   "execution_count": 101,
   "metadata": {},
   "outputs": [],
   "source": [
    "response = session.get(error_req)\n",
    "page = response.text"
   ]
  },
  {
   "cell_type": "code",
   "execution_count": 109,
   "metadata": {},
   "outputs": [],
   "source": [
    "def error_number(page):\n",
    "    soup = BeautifulSoup(page, 'html.parser')\n",
    "    ans = soup.find_all('span', {'class': \"label label-default\"})\n",
    "    #print(ans)\n",
    "    return ans[-1].text"
   ]
  },
  {
   "cell_type": "code",
   "execution_count": 110,
   "metadata": {},
   "outputs": [
    {
     "data": {
      "text/plain": [
       "'Found: 4807 documents, 16573 contexts.'"
      ]
     },
     "execution_count": 110,
     "metadata": {},
     "output_type": "execute_result"
    }
   ],
   "source": [
    "error_number(page)"
   ]
  },
  {
   "cell_type": "code",
   "execution_count": 115,
   "metadata": {},
   "outputs": [
    {
     "data": {
      "text/plain": [
       "'16573'"
      ]
     },
     "execution_count": 115,
     "metadata": {},
     "output_type": "execute_result"
    }
   ],
   "source": [
    "re.findall(', (\\d+) contexts', error_number(page))[0]"
   ]
  },
  {
   "cell_type": "code",
   "execution_count": null,
   "metadata": {
    "scrolled": true
   },
   "outputs": [],
   "source": [
    "err_freq_dict = {}\n",
    "for i in tqdm(range(len(sections))):\n",
    "    sec = sections[i]\n",
    "    err_freq_dict[sec] = dd(int)\n",
    "    for err in tqdm(error_types[i]):\n",
    "        error_req = create_req(err)\n",
    "        response = session.get(error_req, headers=headers)\n",
    "        page = response.text\n",
    "        num = re.findall(', (\\d+) contexts', error_number(page))[0]\n",
    "        err_freq_dict[sec][err] = int(num)\n",
    "        time.sleep(random.uniform(1.1, 5.2))"
   ]
  },
  {
   "cell_type": "code",
   "execution_count": null,
   "metadata": {},
   "outputs": [],
   "source": [
    "for err in tqdm(['Aux', 'Brev', 'Syntax']):\n",
    "        error_req = create_req(err)\n",
    "        response = session.get(error_req, headers=headers)\n",
    "        page = response.text\n",
    "        num = re.findall(', (\\d+) contexts', error_number(page))[0]\n",
    "        print(num)\n",
    "        err_freq_dict['Syntax errors'][err] = int(num)\n",
    "        time.sleep(random.uniform(1.1, 5.2))"
   ]
  },
  {
   "cell_type": "code",
   "execution_count": 134,
   "metadata": {
    "scrolled": true
   },
   "outputs": [
    {
     "data": {
      "text/plain": [
       "{'Spelling errors': defaultdict(int,\n",
       "             {'Graph': 130,\n",
       "              'Hyphen': 259,\n",
       "              'Space': 510,\n",
       "              'Ortho': 3794,\n",
       "              'Translit': 29,\n",
       "              'Misspell': 186}),\n",
       " 'Lexical errors': defaultdict(int,\n",
       "             {'lex': 3624, 'CS': 15, 'Par': 2, 'Idiom': 231, 'Prep': 1817}),\n",
       " 'Collocation errors': defaultdict(int, {'Constr': 1703, 'Com': 6}),\n",
       " 'Morphological errors': defaultdict(int,\n",
       "             {'Deriv': 701,\n",
       "              'Infl': 1610,\n",
       "              'Num': 400,\n",
       "              'Gender': 213,\n",
       "              'Altern': 342,\n",
       "              'Morpho': 0}),\n",
       " 'Additional tags': defaultdict(int,\n",
       "             {'Transfer': 1649,\n",
       "              'Not-clear': 340,\n",
       "              'Miss': 1382,\n",
       "              'Extra': 1093,\n",
       "              'Subst': 110,\n",
       "              'Transp': 19,\n",
       "              'Disc': 823}),\n",
       " 'Syntax errors': defaultdict(int,\n",
       "             {'Asp': 1466,\n",
       "              'ArgStr': 41,\n",
       "              'Passive': 51,\n",
       "              'Tense': 193,\n",
       "              'Mode': 166,\n",
       "              'Refl': 303,\n",
       "              'AgrNum': 439,\n",
       "              'AgrCase': 763,\n",
       "              'AgrGender': 755,\n",
       "              'AgrPers': 123,\n",
       "              'AgrGerund': 21,\n",
       "              'Gov': 2957,\n",
       "              'Ref': 1041,\n",
       "              'Conj': 994,\n",
       "              'WO': 757,\n",
       "              'Neg': 166,\n",
       "              'GenNeg': 30,\n",
       "              'Aux': 293,\n",
       "              'Brev': 242,\n",
       "              'Syntax': 664})}"
      ]
     },
     "execution_count": 134,
     "metadata": {},
     "output_type": "execute_result"
    }
   ],
   "source": [
    "err_freq_dict"
   ]
  },
  {
   "cell_type": "markdown",
   "metadata": {},
   "source": [
    "(сохраняем в файлы)"
   ]
  },
  {
   "cell_type": "code",
   "execution_count": 139,
   "metadata": {},
   "outputs": [],
   "source": [
    "with open('err_freq_dict.json', 'w', encoding='utf-8') as f:\n",
    "    json.dump(err_freq_dict, f, ensure_ascii = False, indent = 4)"
   ]
  },
  {
   "cell_type": "code",
   "execution_count": 140,
   "metadata": {},
   "outputs": [],
   "source": [
    "with open('sections.json', 'w', encoding='utf-8') as f:\n",
    "    json.dump(sections, f, ensure_ascii = False, indent = 4)"
   ]
  },
  {
   "cell_type": "code",
   "execution_count": 142,
   "metadata": {},
   "outputs": [],
   "source": [
    "with open('error_types.json', 'w', encoding='utf-8') as f:\n",
    "    json.dump(error_types, f, ensure_ascii = False, indent = 4)"
   ]
  },
  {
   "cell_type": "markdown",
   "metadata": {},
   "source": [
    "### Обкачивание морфологии"
   ]
  },
  {
   "cell_type": "markdown",
   "metadata": {},
   "source": [
    "Обкачаем все контексты, в которых есть морфологические ошибки"
   ]
  },
  {
   "cell_type": "code",
   "execution_count": 9,
   "metadata": {},
   "outputs": [],
   "source": [
    "morph_err_all = 'Deriv|Infl|Num|Gender|Altern|Morpho'.split('|') # все ошибки из категории \"Morphological errors\"\n",
    "morph_req = create_req(morph_err_all)\n",
    "search = 'http://web-corpora.net/RLC/document-annotations/search?document='"
   ]
  },
  {
   "cell_type": "markdown",
   "metadata": {},
   "source": [
    "Функция, выдающая список вхождений (html-кода)"
   ]
  },
  {
   "cell_type": "code",
   "execution_count": 232,
   "metadata": {},
   "outputs": [],
   "source": [
    "def find_sents(req, page_num):\n",
    "    response = session.get(req+str(page_num), headers=headers)\n",
    "    page = response.text\n",
    "    soup = BeautifulSoup(page, 'html.parser')\n",
    "    sents = soup.find_all('span', {'contenteditable': \"false\"})\n",
    "    return sents"
   ]
  },
  {
   "cell_type": "markdown",
   "metadata": {},
   "source": [
    "Функция, собирающая данные для таблицы с ошибками (ошибка и теги на ней)"
   ]
  },
  {
   "cell_type": "code",
   "execution_count": 233,
   "metadata": {},
   "outputs": [],
   "source": [
    "def find_error_data(sent, context_sent):\n",
    "    data = []\n",
    "    \n",
    "    d_id = sent['id']\n",
    "    d_data = requests.get(url = search+d_id)\n",
    "    js_data = json.loads(d_data.text)\n",
    "    context = sents[i+1].text\n",
    "    context = re.sub('(\\s+\\s+\\s+)|(\\n)', '', context)\n",
    "    \n",
    "    for row in js_data['rows']:\n",
    "        err_word = row['quote'].translate(str.maketrans('', '', '!\"#$%&\\'()*+,./:;<=>?@[\\\\]^_`{|}~'))\n",
    "        cor_word = row['corrs'].translate(str.maketrans('', '', '!\"#$%&\\'()*+,./:;<=>?@[\\\\]^_`{|}~'))\n",
    "        err_tags = tuple(sorted([tag.translate(str.maketrans('', '', string.punctuation)) for tag in row['tags']]))\n",
    "        if bool(set(err_tags) & errors):\n",
    "            data.append([err_word, cor_word, err_tags, context])\n",
    "    \n",
    "    return data"
   ]
  },
  {
   "cell_type": "markdown",
   "metadata": {},
   "source": [
    "Функция, собирающая подробные данные об ошибке (её автоматический морфологический анализ)"
   ]
  },
  {
   "cell_type": "code",
   "execution_count": 93,
   "metadata": {},
   "outputs": [],
   "source": [
    "def find_morph_data(sent):\n",
    "    \n",
    "    groups = re.findall(r'<span class=\"token\" title=\"&lt;b&gt;([^<]+?)\"><b>(.+?)</b>', str(sents[i]))\n",
    "    data = []\n",
    "    \n",
    "    for group in groups:\n",
    "        word = group[-1].translate(str.maketrans('', '', '!\"#$%&\\'()*+,./:;<=>?@[\\\\]^_`{|}~'))\n",
    "        #while not word[-1].isalpha():\n",
    "            #word = word[:-1]\n",
    "        ana = group[0].split(',')\n",
    "        lemma = ana[0]\n",
    "        ana[1] = ana[1].replace(' ', '')\n",
    "        if ana[1] == 'bastard':\n",
    "            bastard = True\n",
    "            pos = ana[2].split('&')[0].replace(' ', '')\n",
    "        else:\n",
    "            bastard = False\n",
    "            pos = ana[1].split('&')[0]\n",
    "        morphs = []\n",
    "        morph_ana = []\n",
    "        for j in ana[1:]:\n",
    "            parts = j.split('&lt;br&gt;')\n",
    "            if len(parts) > 1:\n",
    "                morph_ana.append(parts[0])\n",
    "                morphs.append(morph_ana)\n",
    "                morph_ana = []\n",
    "                morph_ana.append(parts[1])\n",
    "            else:\n",
    "                morph_ana.append(parts[0])\n",
    "        data.append([word, lemma, pos, bastard, tuple(morphs[1:])])\n",
    "    \n",
    "    return data"
   ]
  },
  {
   "cell_type": "markdown",
   "metadata": {},
   "source": [
    "Общий алгоритм"
   ]
  },
  {
   "cell_type": "code",
   "execution_count": 101,
   "metadata": {},
   "outputs": [
    {
     "name": "stderr",
     "output_type": "stream",
     "text": [
      "100%|██████████████████████████████████████████████████████████████████████████████████| 58/58 [55:41<00:00, 57.62s/it]\n"
     ]
    }
   ],
   "source": [
    "for_df_errors = []\n",
    "for_df_morph = []\n",
    "errors = set(morph_err_all)\n",
    "\n",
    "for i in tqdm(range(2900//50), position=0, leave=True):# range(2900//50)\n",
    "    \n",
    "    sents = find_sents(morph_req, i)\n",
    "    \n",
    "    for i in range(0, len(sents), 2):\n",
    "        err_data = find_error_data(sents[i], sents[i+1])\n",
    "        time.sleep(random.uniform(0.5, 1.2))\n",
    "        morph_data = find_morph_data(sents[i])\n",
    "        \n",
    "        for_df_errors.extend(err_data)\n",
    "        \n",
    "        for word in morph_data:\n",
    "            cor_word = None\n",
    "            cor_tags = None\n",
    "            if err_data[0] == word[0]:\n",
    "                cor_word = err_data[1]\n",
    "                a = morph.parse(err_data[1])[0]\n",
    "                cor_tags = [a.tag.case, a.tag.number]\n",
    "            for_df_morph.append([*word, cor_word, cor_tags])\n",
    "    \n",
    "    time.sleep(random.uniform(1.1, 3.2))"
   ]
  },
  {
   "cell_type": "markdown",
   "metadata": {},
   "source": [
    "Переносим в таблицы"
   ]
  },
  {
   "cell_type": "code",
   "execution_count": 102,
   "metadata": {},
   "outputs": [],
   "source": [
    "error_df = pd.DataFrame(for_df_errors, columns=['err_word', 'cor_word', 'err_tags', 'context'])"
   ]
  },
  {
   "cell_type": "code",
   "execution_count": 103,
   "metadata": {
    "scrolled": true
   },
   "outputs": [
    {
     "data": {
      "text/html": [
       "<div>\n",
       "<style scoped>\n",
       "    .dataframe tbody tr th:only-of-type {\n",
       "        vertical-align: middle;\n",
       "    }\n",
       "\n",
       "    .dataframe tbody tr th {\n",
       "        vertical-align: top;\n",
       "    }\n",
       "\n",
       "    .dataframe thead th {\n",
       "        text-align: right;\n",
       "    }\n",
       "</style>\n",
       "<table border=\"1\" class=\"dataframe\">\n",
       "  <thead>\n",
       "    <tr style=\"text-align: right;\">\n",
       "      <th></th>\n",
       "      <th>err_word</th>\n",
       "      <th>cor_word</th>\n",
       "      <th>err_tags</th>\n",
       "      <th>context</th>\n",
       "    </tr>\n",
       "  </thead>\n",
       "  <tbody>\n",
       "    <tr>\n",
       "      <th>0</th>\n",
       "      <td>завтрешней</td>\n",
       "      <td>завтрашней</td>\n",
       "      <td>(Altern, Deriv)</td>\n",
       "      <td>Мой вопрос касается завтрашней</td>\n",
       "    </tr>\n",
       "    <tr>\n",
       "      <th>1</th>\n",
       "      <td>глоссарий</td>\n",
       "      <td>глоссария</td>\n",
       "      <td>(Infl, Morph)</td>\n",
       "      <td>Потом ещё один вопрос: Какой график у глоссария</td>\n",
       "    </tr>\n",
       "    <tr>\n",
       "      <th>2</th>\n",
       "      <td>следующию</td>\n",
       "      <td>следующее</td>\n",
       "      <td>(Gender, Infl, Subst)</td>\n",
       "      <td>Заранее спасибо за ответ, Посылаю следующее эс...</td>\n",
       "    </tr>\n",
       "    <tr>\n",
       "      <th>3</th>\n",
       "      <td>следующию</td>\n",
       "      <td>следующее</td>\n",
       "      <td>(Infl,)</td>\n",
       "      <td>Заранее спасибо за ответ, Посылаю следующее эс...</td>\n",
       "    </tr>\n",
       "    <tr>\n",
       "      <th>4</th>\n",
       "      <td>недели</td>\n",
       "      <td>неделе</td>\n",
       "      <td>(Infl, Ortho)</td>\n",
       "      <td>здравствуйте на этой неделе не получится прийт...</td>\n",
       "    </tr>\n",
       "    <tr>\n",
       "      <th>...</th>\n",
       "      <td>...</td>\n",
       "      <td>...</td>\n",
       "      <td>...</td>\n",
       "      <td>...</td>\n",
       "    </tr>\n",
       "    <tr>\n",
       "      <th>3483</th>\n",
       "      <td>другами</td>\n",
       "      <td>другом</td>\n",
       "      <td>(Infl, Morph)</td>\n",
       "      <td>Идея выбранной мною темы возникла уже в моём д...</td>\n",
       "    </tr>\n",
       "    <tr>\n",
       "      <th>3484</th>\n",
       "      <td>отношении</td>\n",
       "      <td></td>\n",
       "      <td>(Infl, Ortho)</td>\n",
       "      <td>Человеческое общество - система отношении.</td>\n",
       "    </tr>\n",
       "    <tr>\n",
       "      <th>3485</th>\n",
       "      <td>взаимоотношения</td>\n",
       "      <td></td>\n",
       "      <td>(Lex, Num)</td>\n",
       "      <td>В пирамиде пять уровней: физиологические потре...</td>\n",
       "    </tr>\n",
       "    <tr>\n",
       "      <th>3486</th>\n",
       "      <td>третьем</td>\n",
       "      <td></td>\n",
       "      <td>(Num,)</td>\n",
       "      <td>В третьем, для анализа коммуникативной деятель...</td>\n",
       "    </tr>\n",
       "    <tr>\n",
       "      <th>3487</th>\n",
       "      <td>стратегия</td>\n",
       "      <td></td>\n",
       "      <td>(Infl, Ortho)</td>\n",
       "      <td>У человека появляются разные речевые стратегия...</td>\n",
       "    </tr>\n",
       "  </tbody>\n",
       "</table>\n",
       "<p>3488 rows × 4 columns</p>\n",
       "</div>"
      ],
      "text/plain": [
       "             err_word    cor_word               err_tags  \\\n",
       "0          завтрешней  завтрашней        (Altern, Deriv)   \n",
       "1           глоссарий   глоссария          (Infl, Morph)   \n",
       "2           следующию   следующее  (Gender, Infl, Subst)   \n",
       "3           следующию   следующее                (Infl,)   \n",
       "4              недели      неделе          (Infl, Ortho)   \n",
       "...               ...         ...                    ...   \n",
       "3483          другами      другом          (Infl, Morph)   \n",
       "3484        отношении                      (Infl, Ortho)   \n",
       "3485  взаимоотношения                         (Lex, Num)   \n",
       "3486          третьем                             (Num,)   \n",
       "3487        стратегия                      (Infl, Ortho)   \n",
       "\n",
       "                                                context  \n",
       "0                        Мой вопрос касается завтрашней  \n",
       "1       Потом ещё один вопрос: Какой график у глоссария  \n",
       "2     Заранее спасибо за ответ, Посылаю следующее эс...  \n",
       "3     Заранее спасибо за ответ, Посылаю следующее эс...  \n",
       "4     здравствуйте на этой неделе не получится прийт...  \n",
       "...                                                 ...  \n",
       "3483  Идея выбранной мною темы возникла уже в моём д...  \n",
       "3484         Человеческое общество - система отношении.  \n",
       "3485  В пирамиде пять уровней: физиологические потре...  \n",
       "3486  В третьем, для анализа коммуникативной деятель...  \n",
       "3487  У человека появляются разные речевые стратегия...  \n",
       "\n",
       "[3488 rows x 4 columns]"
      ]
     },
     "execution_count": 103,
     "metadata": {},
     "output_type": "execute_result"
    }
   ],
   "source": [
    "error_df"
   ]
  },
  {
   "cell_type": "code",
   "execution_count": 104,
   "metadata": {},
   "outputs": [],
   "source": [
    "morph_df = pd.DataFrame(for_df_morph, columns=['err_word', 'err_lemma', 'err_pos', 'is_bastard', 'err_analysis', 'cor_word', 'cor_analysis'])"
   ]
  },
  {
   "cell_type": "code",
   "execution_count": 105,
   "metadata": {
    "scrolled": true
   },
   "outputs": [
    {
     "data": {
      "text/html": [
       "<div>\n",
       "<style scoped>\n",
       "    .dataframe tbody tr th:only-of-type {\n",
       "        vertical-align: middle;\n",
       "    }\n",
       "\n",
       "    .dataframe tbody tr th {\n",
       "        vertical-align: top;\n",
       "    }\n",
       "\n",
       "    .dataframe thead th {\n",
       "        text-align: right;\n",
       "    }\n",
       "</style>\n",
       "<table border=\"1\" class=\"dataframe\">\n",
       "  <thead>\n",
       "    <tr style=\"text-align: right;\">\n",
       "      <th></th>\n",
       "      <th>err_word</th>\n",
       "      <th>err_lemma</th>\n",
       "      <th>err_pos</th>\n",
       "      <th>is_bastard</th>\n",
       "      <th>err_analysis</th>\n",
       "      <th>cor_word</th>\n",
       "      <th>cor_analysis</th>\n",
       "    </tr>\n",
       "  </thead>\n",
       "  <tbody>\n",
       "    <tr>\n",
       "      <th>0</th>\n",
       "      <td>завтрешней</td>\n",
       "      <td>завтрешний</td>\n",
       "      <td>A</td>\n",
       "      <td>True</td>\n",
       "      <td>([abl, sg, plen, f], [dat, sg, plen, f], [gen,...</td>\n",
       "      <td>None</td>\n",
       "      <td>None</td>\n",
       "    </tr>\n",
       "    <tr>\n",
       "      <th>1</th>\n",
       "      <td>лекции</td>\n",
       "      <td>лекция</td>\n",
       "      <td>S</td>\n",
       "      <td>False</td>\n",
       "      <td>([abl, sg], [acc, pl], [dat, sg], [gen, sg])</td>\n",
       "      <td>None</td>\n",
       "      <td>None</td>\n",
       "    </tr>\n",
       "    <tr>\n",
       "      <th>2</th>\n",
       "      <td>глоссарий</td>\n",
       "      <td>глоссарий</td>\n",
       "      <td>S</td>\n",
       "      <td>False</td>\n",
       "      <td>([acc, sg],)</td>\n",
       "      <td>None</td>\n",
       "      <td>None</td>\n",
       "    </tr>\n",
       "    <tr>\n",
       "      <th>3</th>\n",
       "      <td>следующию</td>\n",
       "      <td>следующие</td>\n",
       "      <td>S</td>\n",
       "      <td>True</td>\n",
       "      <td>()</td>\n",
       "      <td>None</td>\n",
       "      <td>None</td>\n",
       "    </tr>\n",
       "    <tr>\n",
       "      <th>4</th>\n",
       "      <td>недели</td>\n",
       "      <td>неделя</td>\n",
       "      <td>S</td>\n",
       "      <td>False</td>\n",
       "      <td>([acc, pl], [gen, sg])</td>\n",
       "      <td>None</td>\n",
       "      <td>None</td>\n",
       "    </tr>\n",
       "    <tr>\n",
       "      <th>...</th>\n",
       "      <td>...</td>\n",
       "      <td>...</td>\n",
       "      <td>...</td>\n",
       "      <td>...</td>\n",
       "      <td>...</td>\n",
       "      <td>...</td>\n",
       "      <td>...</td>\n",
       "    </tr>\n",
       "    <tr>\n",
       "      <th>3895</th>\n",
       "      <td>обычае</td>\n",
       "      <td>обычай</td>\n",
       "      <td>S</td>\n",
       "      <td>False</td>\n",
       "      <td>()</td>\n",
       "      <td>None</td>\n",
       "      <td>None</td>\n",
       "    </tr>\n",
       "    <tr>\n",
       "      <th>3896</th>\n",
       "      <td>отношении</td>\n",
       "      <td>отношение</td>\n",
       "      <td>S</td>\n",
       "      <td>False</td>\n",
       "      <td>()</td>\n",
       "      <td>None</td>\n",
       "      <td>None</td>\n",
       "    </tr>\n",
       "    <tr>\n",
       "      <th>3897</th>\n",
       "      <td>взаимоотношения</td>\n",
       "      <td>взаимоотношение</td>\n",
       "      <td>S</td>\n",
       "      <td>False</td>\n",
       "      <td>([acc, pl], [gen, sg])</td>\n",
       "      <td>None</td>\n",
       "      <td>None</td>\n",
       "    </tr>\n",
       "    <tr>\n",
       "      <th>3898</th>\n",
       "      <td>третьем</td>\n",
       "      <td>третий</td>\n",
       "      <td>ANUM</td>\n",
       "      <td>False</td>\n",
       "      <td>([abl, sg, m],)</td>\n",
       "      <td>None</td>\n",
       "      <td>None</td>\n",
       "    </tr>\n",
       "    <tr>\n",
       "      <th>3899</th>\n",
       "      <td>стратегия</td>\n",
       "      <td>стратегия</td>\n",
       "      <td>S</td>\n",
       "      <td>False</td>\n",
       "      <td>()</td>\n",
       "      <td>None</td>\n",
       "      <td>None</td>\n",
       "    </tr>\n",
       "  </tbody>\n",
       "</table>\n",
       "<p>3900 rows × 7 columns</p>\n",
       "</div>"
      ],
      "text/plain": [
       "              err_word        err_lemma err_pos  is_bastard  \\\n",
       "0          завтрешней        завтрешний       A        True   \n",
       "1               лекции           лекция       S       False   \n",
       "2            глоссарий        глоссарий       S       False   \n",
       "3           следующию         следующие       S        True   \n",
       "4              недели            неделя       S       False   \n",
       "...                ...              ...     ...         ...   \n",
       "3895            обычае           обычай       S       False   \n",
       "3896         отношении        отношение       S       False   \n",
       "3897  взаимоотношения   взаимоотношение       S       False   \n",
       "3898          третьем            третий    ANUM       False   \n",
       "3899        стратегия         стратегия       S       False   \n",
       "\n",
       "                                           err_analysis cor_word cor_analysis  \n",
       "0     ([abl, sg, plen, f], [dat, sg, plen, f], [gen,...     None         None  \n",
       "1          ([abl, sg], [acc, pl], [dat, sg], [gen, sg])     None         None  \n",
       "2                                          ([acc, sg],)     None         None  \n",
       "3                                                    ()     None         None  \n",
       "4                                ([acc, pl], [gen, sg])     None         None  \n",
       "...                                                 ...      ...          ...  \n",
       "3895                                                 ()     None         None  \n",
       "3896                                                 ()     None         None  \n",
       "3897                             ([acc, pl], [gen, sg])     None         None  \n",
       "3898                                    ([abl, sg, m],)     None         None  \n",
       "3899                                                 ()     None         None  \n",
       "\n",
       "[3900 rows x 7 columns]"
      ]
     },
     "execution_count": 105,
     "metadata": {},
     "output_type": "execute_result"
    }
   ],
   "source": [
    "morph_df"
   ]
  },
  {
   "cell_type": "markdown",
   "metadata": {},
   "source": [
    "Переносим в файлы"
   ]
  },
  {
   "cell_type": "code",
   "execution_count": 106,
   "metadata": {},
   "outputs": [],
   "source": [
    "morph_df.to_csv('morph_df.csv', encoding='utf-8')"
   ]
  },
  {
   "cell_type": "code",
   "execution_count": 107,
   "metadata": {},
   "outputs": [],
   "source": [
    "error_df.sort_values(by=['err_tags']).to_csv('error_df.csv', encoding='utf-8')"
   ]
  },
  {
   "cell_type": "code",
   "execution_count": 14,
   "metadata": {},
   "outputs": [],
   "source": [
    "error_df = pd.read_csv('error_df.csv', encoding='utf-8', index_col=0)"
   ]
  },
  {
   "cell_type": "markdown",
   "metadata": {},
   "source": [
    "Посчитаем, каких сочетаний тегов больше всего"
   ]
  },
  {
   "cell_type": "code",
   "execution_count": 216,
   "metadata": {},
   "outputs": [
    {
     "data": {
      "text/plain": [
       "err_tags\n",
       "('Infl', 'Morph')      549\n",
       "('Infl', 'Ortho')      462\n",
       "('Infl',)              454\n",
       "('Deriv', 'Lex')       371\n",
       "('Altern',)            199\n",
       "('Num',)               194\n",
       "('Gender',)            150\n",
       "('Deriv',)              95\n",
       "('Num', 'Transfer')     69\n",
       "('AgrCase', 'Infl')     68\n",
       "('Deriv', 'Morph')      57\n",
       "('Altern', 'Morph')     35\n",
       "('Infl', 'Subst')       25\n",
       "('Lex', 'Num')          22\n",
       "('Altern', 'Ortho')     21\n",
       "dtype: int64"
      ]
     },
     "execution_count": 216,
     "metadata": {},
     "output_type": "execute_result"
    }
   ],
   "source": [
    "error_df.groupby(by='err_tags').size().sort_values(ascending=False).head(15)"
   ]
  },
  {
   "cell_type": "code",
   "execution_count": 218,
   "metadata": {},
   "outputs": [
    {
     "data": {
      "image/png": "[encoded data removed]",
      "text/plain": [
       "<Figure size 432x288 with 1 Axes>"
      ]
     },
     "metadata": {},
     "output_type": "display_data"
    }
   ],
   "source": [
    "error_df.groupby(by='err_tags').size().sort_values(ascending=False).plot.pie(radius=2);"
   ]
  },
  {
   "cell_type": "markdown",
   "metadata": {},
   "source": [
    "### Обкачивание орфографии"
   ]
  },
  {
   "cell_type": "code",
   "execution_count": 235,
   "metadata": {},
   "outputs": [],
   "source": [
    "orpho_err_all = 'Graph|Hyphen|Space|Ortho|Translit|Misspell'.split('|') # все ошибки из категории \"Spelling errors\"\n",
    "orpho_req = create_req(orpho_err_all)\n",
    "search = 'http://web-corpora.net/RLC/document-annotations/search?document='"
   ]
  },
  {
   "cell_type": "code",
   "execution_count": 236,
   "metadata": {},
   "outputs": [
    {
     "name": "stderr",
     "output_type": "stream",
     "text": [
      "100%|████████████████████████████████████████████████████████████████████████████████| 84/84 [1:07:30<00:00, 48.22s/it]\n"
     ]
    }
   ],
   "source": [
    "for_df_orph_errors = []\n",
    "\n",
    "errors = set(orpho_err_all)\n",
    "\n",
    "for i in tqdm(range(4200//50), position=0, leave=True):\n",
    "    \n",
    "    sents = find_sents(orpho_req, i)\n",
    "    \n",
    "    for i in range(0, len(sents), 2):\n",
    "        err_data = find_error_data(sents[i], sents[i+1])\n",
    "        time.sleep(random.uniform(0.5, 1.2))\n",
    "        \n",
    "        for_df_orph_errors.extend(err_data)\n",
    "    \n",
    "    time.sleep(random.uniform(1.1, 3.2))"
   ]
  },
  {
   "cell_type": "code",
   "execution_count": 238,
   "metadata": {},
   "outputs": [],
   "source": [
    "orpho_error_df = pd.DataFrame(for_df_orph_errors, columns=['err_word', 'cor_word', 'err_tags', 'context'])"
   ]
  },
  {
   "cell_type": "code",
   "execution_count": 239,
   "metadata": {
    "scrolled": true
   },
   "outputs": [
    {
     "data": {
      "text/html": [
       "<div>\n",
       "<style scoped>\n",
       "    .dataframe tbody tr th:only-of-type {\n",
       "        vertical-align: middle;\n",
       "    }\n",
       "\n",
       "    .dataframe tbody tr th {\n",
       "        vertical-align: top;\n",
       "    }\n",
       "\n",
       "    .dataframe thead th {\n",
       "        text-align: right;\n",
       "    }\n",
       "</style>\n",
       "<table border=\"1\" class=\"dataframe\">\n",
       "  <thead>\n",
       "    <tr style=\"text-align: right;\">\n",
       "      <th></th>\n",
       "      <th>err_word</th>\n",
       "      <th>cor_word</th>\n",
       "      <th>err_tags</th>\n",
       "      <th>context</th>\n",
       "    </tr>\n",
       "  </thead>\n",
       "  <tbody>\n",
       "    <tr>\n",
       "      <th>0</th>\n",
       "      <td>прийдти</td>\n",
       "      <td>прийти</td>\n",
       "      <td>(Ortho,)</td>\n",
       "      <td>К сожалению на курсы я не смогу прийти так что...</td>\n",
       "    </tr>\n",
       "    <tr>\n",
       "      <th>1</th>\n",
       "      <td>сожелению</td>\n",
       "      <td>сожалению</td>\n",
       "      <td>(Ortho,)</td>\n",
       "      <td>К сожалению я буду отсутствовать на занятии из...</td>\n",
       "    </tr>\n",
       "    <tr>\n",
       "      <th>2</th>\n",
       "      <td>болезьни</td>\n",
       "      <td>болезни</td>\n",
       "      <td>(Ortho,)</td>\n",
       "      <td>К сожалению я буду отсутствовать на занятии из...</td>\n",
       "    </tr>\n",
       "    <tr>\n",
       "      <th>3</th>\n",
       "      <td>зделать</td>\n",
       "      <td>сделать</td>\n",
       "      <td>(Ortho,)</td>\n",
       "      <td>Когда у вас будет время, пошлите мне пожалуйст...</td>\n",
       "    </tr>\n",
       "    <tr>\n",
       "      <th>4</th>\n",
       "      <td>пожалуйсто</td>\n",
       "      <td>пожалуйста</td>\n",
       "      <td>(Ortho,)</td>\n",
       "      <td>извините меня пожалуйста беспокойство</td>\n",
       "    </tr>\n",
       "    <tr>\n",
       "      <th>...</th>\n",
       "      <td>...</td>\n",
       "      <td>...</td>\n",
       "      <td>...</td>\n",
       "      <td>...</td>\n",
       "    </tr>\n",
       "    <tr>\n",
       "      <th>5487</th>\n",
       "      <td>в   слух</td>\n",
       "      <td>вслух</td>\n",
       "      <td>(Extra, Ortho, Space)</td>\n",
       "      <td>К сожалению не смогу пропеть его Вам вслух так...</td>\n",
       "    </tr>\n",
       "    <tr>\n",
       "      <th>5488</th>\n",
       "      <td>ни</td>\n",
       "      <td>не</td>\n",
       "      <td>(Ortho,)</td>\n",
       "      <td>Все здания привлекательно потрескавшиеся, но г...</td>\n",
       "    </tr>\n",
       "    <tr>\n",
       "      <th>5489</th>\n",
       "      <td>по-  ночам</td>\n",
       "      <td>по ночам</td>\n",
       "      <td>(Extra, Hyphen, Ortho)</td>\n",
       "      <td>Город весь окрашен в маренго, но по ночам как ...</td>\n",
       "    </tr>\n",
       "    <tr>\n",
       "      <th>5490</th>\n",
       "      <td>какая   то</td>\n",
       "      <td>какая-то</td>\n",
       "      <td>(Hyphen, Miss, Ortho)</td>\n",
       "      <td>Вообще там сохранилась какая-то симпатично-ста...</td>\n",
       "    </tr>\n",
       "    <tr>\n",
       "      <th>5491</th>\n",
       "      <td>дет</td>\n",
       "      <td>лет</td>\n",
       "      <td>(Ortho,)</td>\n",
       "      <td>Еще несколько лет назад чуть ли не самый груст...</td>\n",
       "    </tr>\n",
       "  </tbody>\n",
       "</table>\n",
       "<p>5492 rows × 4 columns</p>\n",
       "</div>"
      ],
      "text/plain": [
       "        err_word    cor_word                err_tags  \\\n",
       "0        прийдти      прийти                (Ortho,)   \n",
       "1      сожелению   сожалению                (Ortho,)   \n",
       "2       болезьни     болезни                (Ortho,)   \n",
       "3        зделать     сделать                (Ortho,)   \n",
       "4     пожалуйсто  пожалуйста                (Ortho,)   \n",
       "...          ...         ...                     ...   \n",
       "5487    в   слух       вслух   (Extra, Ortho, Space)   \n",
       "5488          ни          не                (Ortho,)   \n",
       "5489  по-  ночам    по ночам  (Extra, Hyphen, Ortho)   \n",
       "5490  какая   то    какая-то   (Hyphen, Miss, Ortho)   \n",
       "5491         дет         лет                (Ortho,)   \n",
       "\n",
       "                                                context  \n",
       "0     К сожалению на курсы я не смогу прийти так что...  \n",
       "1     К сожалению я буду отсутствовать на занятии из...  \n",
       "2     К сожалению я буду отсутствовать на занятии из...  \n",
       "3     Когда у вас будет время, пошлите мне пожалуйст...  \n",
       "4                 извините меня пожалуйста беспокойство  \n",
       "...                                                 ...  \n",
       "5487  К сожалению не смогу пропеть его Вам вслух так...  \n",
       "5488  Все здания привлекательно потрескавшиеся, но г...  \n",
       "5489  Город весь окрашен в маренго, но по ночам как ...  \n",
       "5490  Вообще там сохранилась какая-то симпатично-ста...  \n",
       "5491  Еще несколько лет назад чуть ли не самый груст...  \n",
       "\n",
       "[5492 rows x 4 columns]"
      ]
     },
     "execution_count": 239,
     "metadata": {},
     "output_type": "execute_result"
    }
   ],
   "source": [
    "orpho_error_df"
   ]
  },
  {
   "cell_type": "code",
   "execution_count": 240,
   "metadata": {},
   "outputs": [],
   "source": [
    "orpho_error_df.sort_values(by=['err_tags']).to_csv('orpho_error_df.csv', encoding='utf-8')"
   ]
  },
  {
   "cell_type": "code",
   "execution_count": 13,
   "metadata": {},
   "outputs": [],
   "source": [
    "orpho_error_df = pd.read_csv('orpho_error_df.csv', encoding='utf-8', index_col=0)"
   ]
  },
  {
   "cell_type": "code",
   "execution_count": 14,
   "metadata": {},
   "outputs": [
    {
     "data": {
      "text/html": [
       "<div>\n",
       "<style scoped>\n",
       "    .dataframe tbody tr th:only-of-type {\n",
       "        vertical-align: middle;\n",
       "    }\n",
       "\n",
       "    .dataframe tbody tr th {\n",
       "        vertical-align: top;\n",
       "    }\n",
       "\n",
       "    .dataframe thead th {\n",
       "        text-align: right;\n",
       "    }\n",
       "</style>\n",
       "<table border=\"1\" class=\"dataframe\">\n",
       "  <thead>\n",
       "    <tr style=\"text-align: right;\">\n",
       "      <th></th>\n",
       "      <th>err_word</th>\n",
       "      <th>cor_word</th>\n",
       "      <th>err_tags</th>\n",
       "      <th>context</th>\n",
       "    </tr>\n",
       "  </thead>\n",
       "  <tbody>\n",
       "    <tr>\n",
       "      <th>1595</th>\n",
       "      <td>не   чем   не   менее</td>\n",
       "      <td>ничуть не менее</td>\n",
       "      <td>('', 'Notclear', 'Ortho', 'Ref')</td>\n",
       "      <td>Ночной порт, вид бухты Ауринколахти из окна ту...</td>\n",
       "    </tr>\n",
       "    <tr>\n",
       "      <th>3651</th>\n",
       "      <td>етот</td>\n",
       "      <td>этой</td>\n",
       "      <td>('AgrCase', 'AgrGender', 'Ortho')</td>\n",
       "      <td>В этой школе училась конечно и Вера тоже</td>\n",
       "    </tr>\n",
       "    <tr>\n",
       "      <th>2222</th>\n",
       "      <td>ощибки</td>\n",
       "      <td>ошибок</td>\n",
       "      <td>('AgrCase', 'Altern', 'Gov', 'Ortho')</td>\n",
       "      <td>Я надеюсь, что я скоро буду писать хорошо, быс...</td>\n",
       "    </tr>\n",
       "    <tr>\n",
       "      <th>2281</th>\n",
       "      <td>из  руссую  кулинарию</td>\n",
       "      <td>о русской кулинарии</td>\n",
       "      <td>('AgrCase', 'Constr', 'Gov', 'Misspell', 'Prep')</td>\n",
       "      <td>Хаапасало стал знаменитым в Финляндии с докуме...</td>\n",
       "    </tr>\n",
       "    <tr>\n",
       "      <th>5214</th>\n",
       "      <td>по-  обменом</td>\n",
       "      <td>NaN</td>\n",
       "      <td>('AgrCase', 'Extra', 'Gov', 'Hyphen')</td>\n",
       "      <td>Тогда я провела четыре недели в по-обменом в Г...</td>\n",
       "    </tr>\n",
       "    <tr>\n",
       "      <th>...</th>\n",
       "      <td>...</td>\n",
       "      <td>...</td>\n",
       "      <td>...</td>\n",
       "      <td>...</td>\n",
       "    </tr>\n",
       "    <tr>\n",
       "      <th>359</th>\n",
       "      <td>Пекинг</td>\n",
       "      <td>Пекин</td>\n",
       "      <td>('Translit',)</td>\n",
       "      <td>Мы полетели прямо из Хельсинки в Пекин</td>\n",
       "    </tr>\n",
       "    <tr>\n",
       "      <th>360</th>\n",
       "      <td>Пекинг</td>\n",
       "      <td>Пекин</td>\n",
       "      <td>('Translit',)</td>\n",
       "      <td>Пекин столица Китая и он находится в Восточном...</td>\n",
       "    </tr>\n",
       "    <tr>\n",
       "      <th>361</th>\n",
       "      <td>Пекинг</td>\n",
       "      <td>Пекин</td>\n",
       "      <td>('Translit',)</td>\n",
       "      <td>Пекин очень большой город и я удивился тому чт...</td>\n",
       "    </tr>\n",
       "    <tr>\n",
       "      <th>2013</th>\n",
       "      <td>Луиса   Вуйттона</td>\n",
       "      <td>Луи́ Вюитто́н</td>\n",
       "      <td>('Translit',)</td>\n",
       "      <td>Здесь женщина копит деньги два или три года, ч...</td>\n",
       "    </tr>\n",
       "    <tr>\n",
       "      <th>2465</th>\n",
       "      <td>рециклинг</td>\n",
       "      <td>ресайклинг</td>\n",
       "      <td>('Translit',)</td>\n",
       "      <td>Например ресайклинг вторичное использование уп...</td>\n",
       "    </tr>\n",
       "  </tbody>\n",
       "</table>\n",
       "<p>5492 rows × 4 columns</p>\n",
       "</div>"
      ],
      "text/plain": [
       "                   err_word             cor_word  \\\n",
       "1595  не   чем   не   менее      ничуть не менее   \n",
       "3651                   етот                 этой   \n",
       "2222                 ощибки               ошибок   \n",
       "2281  из  руссую  кулинарию  о русской кулинарии   \n",
       "5214           по-  обменом                  NaN   \n",
       "...                     ...                  ...   \n",
       "359                  Пекинг                Пекин   \n",
       "360                  Пекинг                Пекин   \n",
       "361                  Пекинг                Пекин   \n",
       "2013       Луиса   Вуйттона        Луи́ Вюитто́н   \n",
       "2465              рециклинг           ресайклинг   \n",
       "\n",
       "                                              err_tags  \\\n",
       "1595                  ('', 'Notclear', 'Ortho', 'Ref')   \n",
       "3651                 ('AgrCase', 'AgrGender', 'Ortho')   \n",
       "2222             ('AgrCase', 'Altern', 'Gov', 'Ortho')   \n",
       "2281  ('AgrCase', 'Constr', 'Gov', 'Misspell', 'Prep')   \n",
       "5214             ('AgrCase', 'Extra', 'Gov', 'Hyphen')   \n",
       "...                                                ...   \n",
       "359                                      ('Translit',)   \n",
       "360                                      ('Translit',)   \n",
       "361                                      ('Translit',)   \n",
       "2013                                     ('Translit',)   \n",
       "2465                                     ('Translit',)   \n",
       "\n",
       "                                                context  \n",
       "1595  Ночной порт, вид бухты Ауринколахти из окна ту...  \n",
       "3651           В этой школе училась конечно и Вера тоже  \n",
       "2222  Я надеюсь, что я скоро буду писать хорошо, быс...  \n",
       "2281  Хаапасало стал знаменитым в Финляндии с докуме...  \n",
       "5214  Тогда я провела четыре недели в по-обменом в Г...  \n",
       "...                                                 ...  \n",
       "359              Мы полетели прямо из Хельсинки в Пекин  \n",
       "360   Пекин столица Китая и он находится в Восточном...  \n",
       "361   Пекин очень большой город и я удивился тому чт...  \n",
       "2013  Здесь женщина копит деньги два или три года, ч...  \n",
       "2465  Например ресайклинг вторичное использование уп...  \n",
       "\n",
       "[5492 rows x 4 columns]"
      ]
     },
     "execution_count": 14,
     "metadata": {},
     "output_type": "execute_result"
    }
   ],
   "source": [
    "orpho_error_df"
   ]
  },
  {
   "cell_type": "code",
   "execution_count": 16,
   "metadata": {},
   "outputs": [
    {
     "data": {
      "text/plain": [
       "err_tags\n",
       "('Ortho',)                     3189\n",
       "('Infl', 'Ortho')               469\n",
       "('Extra', 'Ortho', 'Space')     204\n",
       "('Extra', 'Space')              122\n",
       "('Misspell', 'Ortho')            75\n",
       "('Hyphen', 'Miss')               75\n",
       "('Misspell',)                    67\n",
       "('Graph', 'Ortho')               65\n",
       "('Lex', 'Ortho')                 64\n",
       "('Hyphen', 'Miss', 'Ortho')      57\n",
       "('Ortho', 'Subst')               53\n",
       "('Extra', 'Hyphen')              48\n",
       "('Graph',)                       46\n",
       "('Miss', 'Ortho', 'Space')       46\n",
       "('Miss', 'Space')                45\n",
       "dtype: int64"
      ]
     },
     "execution_count": 16,
     "metadata": {},
     "output_type": "execute_result"
    }
   ],
   "source": [
    "orpho_error_df.groupby(by='err_tags').size().sort_values(ascending=False).head(15)"
   ]
  },
  {
   "cell_type": "code",
   "execution_count": null,
   "metadata": {},
   "outputs": [],
   "source": [
    "vowels = 'аеиоуюяыэ'\n",
    "nul = 0\n",
    "repl = 0\n",
    "b = 0\n",
    "oth = 0\n",
    "cl_1 = 0\n",
    "cl_2 = 0\n",
    "cl_3 = 0\n",
    "v_miss = 0\n",
    "pairs = []\n",
    "b_list = []\n",
    "v_miss_list = []\n",
    "\n",
    "for index, row in orpho_error_df[orpho_error_df['err_tags'] == \"('Ortho',)\"].iterrows():\n",
    "    if type(row['cor_word']) == float:\n",
    "        nul += 1\n",
    "    elif len(row['err_word']) == len(row['cor_word']) and nltk.edit_distance(row['err_word'], row['cor_word']) == 1:\n",
    "        for i in range(len(row['err_word'])):\n",
    "            if row['err_word'][i] != row['cor_word'][i]:\n",
    "                pairs.append((row['cor_word'][i].lower(), row['err_word'][i].lower()))\n",
    "        repl += 1\n",
    "    elif row['cor_word'].replace('ь', '') == row['err_word'].replace('ь', ''):\n",
    "        b += 1\n",
    "        b_list.append((row['cor_word'], row['err_word']))\n",
    "    elif len(row['err_word']) == len(row['cor_word']) - 1 and nltk.edit_distance(row['err_word'], row['cor_word']) == 1:\n",
    "        #print(row['err_word'], row['cor_word'])\n",
    "        for i in range(len(row['err_word'])):\n",
    "            if row['err_word'][i] != row['cor_word'][i]:\n",
    "                \n",
    "                if row['cor_word'][i] in vowels:\n",
    "                    v_miss += 1\n",
    "                    v_miss_list.append((row['cor_word'], row['err_word']))\n",
    "                elif i == 0 or row['cor_word'] [i-1] in vowels:\n",
    "                    cl_1 += 1\n",
    "                elif i-1 == len(row['cor_word']) or row['cor_word'][i+1] in vowels:\n",
    "                    cl_3 += 1\n",
    "                else:\n",
    "                    cl_2 += 1\n",
    "                \n",
    "                break\n",
    "    else:\n",
    "        print(row['err_word'], row['cor_word'])\n",
    "        oth += 1"
   ]
  },
  {
   "cell_type": "code",
   "execution_count": 16,
   "metadata": {},
   "outputs": [
    {
     "name": "stdout",
     "output_type": "stream",
     "text": [
      "Нет исправления: 728 вхождений\n",
      "Замена одной буквы: 1204 вхождений\n",
      "Добавление/удаление мягкого знака: 489 вхождений\n",
      "Пропуск первой буквы кластера: 70 вхождений\n",
      "Пропуск средней буквы кластера: 42 вхождений\n",
      "Пропуск последней буквы кластера: 63 вхождений\n",
      "Пропуск гласной: 39 вхождений\n",
      "Остальное: 496 вхождений\n"
     ]
    }
   ],
   "source": [
    "print(f'Нет исправления: {nul} вхождений\\nЗамена одной буквы: {repl} вхождений\\nДобавление/удаление мягкого знака: {b} вхождений\\nПропуск первой буквы кластера: {cl_1} вхождений\\nПропуск средней буквы кластера: {cl_2} вхождений\\nПропуск последней буквы кластера: {cl_3} вхождений\\nПропуск гласной: {v_miss} вхождений\\nОстальное: {oth} вхождений')"
   ]
  },
  {
   "cell_type": "code",
   "execution_count": null,
   "metadata": {
    "scrolled": false
   },
   "outputs": [],
   "source": [
    "b_list"
   ]
  },
  {
   "cell_type": "code",
   "execution_count": 51,
   "metadata": {},
   "outputs": [
    {
     "data": {
      "text/plain": [
       "[(('о', 'а'), 131),\n",
       " (('ы', 'и'), 122),\n",
       " (('и', 'е'), 113),\n",
       " (('а', 'о'), 88),\n",
       " (('е', 'и'), 72),\n",
       " (('щ', 'ш'), 45),\n",
       " (('з', 'с'), 42),\n",
       " (('с', 'з'), 38),\n",
       " (('э', 'е'), 33),\n",
       " (('и', 'ы'), 32),\n",
       " (('и', 'й'), 31),\n",
       " (('й', 'и'), 26),\n",
       " (('е', 'о'), 23),\n",
       " (('я', 'е'), 19),\n",
       " (('я', 'а'), 18),\n",
       " (('а', 'и'), 16),\n",
       " (('я', 'и'), 14),\n",
       " (('е', 'э'), 14),\n",
       " (('а', 'е'), 13),\n",
       " (('д', 'т'), 13),\n",
       " (('а', 'я'), 11),\n",
       " (('е', 'я'), 9),\n",
       " (('ъ', 'ь'), 9),\n",
       " (('ж', 'ш'), 8),\n",
       " (('ш', 'щ'), 8),\n",
       " (('т', 'д'), 8),\n",
       " (('ч', 'ш'), 7),\n",
       " (('и', 'о'), 6),\n",
       " (('о', 'и'), 6),\n",
       " (('ь', 'ъ'), 6),\n",
       " (('ш', 'с'), 6),\n",
       " (('о', 'у'), 6),\n",
       " (('г', 'в'), 6),\n",
       " (('л', 'д'), 6),\n",
       " (('ы', 'о'), 6),\n",
       " (('ц', 'ч'), 6),\n",
       " (('ь', 'и'), 5),\n",
       " (('к', 'г'), 5),\n",
       " (('с', 'ц'), 5),\n",
       " (('ш', 'ж'), 5),\n",
       " (('о', 'е'), 5),\n",
       " (('р', 'п'), 4),\n",
       " (('и', 'у'), 4),\n",
       " (('г', 'к'), 4),\n",
       " (('ч', 'щ'), 4),\n",
       " (('ы', 'е'), 4),\n",
       " (('у', 'о'), 4),\n",
       " (('в', 'б'), 3),\n",
       " (('н', 'х'), 3),\n",
       " (('з', 'з'), 3),\n",
       " (('щ', 'ж'), 3),\n",
       " (('т', 'ц'), 3),\n",
       " (('о', 'ы'), 3),\n",
       " (('б', 'п'), 3),\n",
       " (('е', 'а'), 3),\n",
       " (('ж', 'з'), 3),\n",
       " (('е', 'й'), 3),\n",
       " (('у', 'ы'), 3),\n",
       " (('ф', 'ф'), 2),\n",
       " (('ю', 'и'), 2)]"
      ]
     },
     "execution_count": 51,
     "metadata": {},
     "output_type": "execute_result"
    }
   ],
   "source": [
    "Counter(pairs).most_common(60)"
   ]
  },
  {
   "cell_type": "code",
   "execution_count": 52,
   "metadata": {},
   "outputs": [],
   "source": [
    "with open('Counter_pairs.json', 'w', encoding='utf-8') as f:\n",
    "    json.dump(Counter(pairs).most_common(60), f, ensure_ascii = False, indent = 4)"
   ]
  },
  {
   "cell_type": "code",
   "execution_count": null,
   "metadata": {
    "scrolled": false
   },
   "outputs": [],
   "source": [
    "sp = 0\n",
    "t = 0\n",
    "nan = 0\n",
    "\n",
    "for index, row in orpho_error_df[orpho_error_df['err_tags'].str.contains(\"Hyph\")].iterrows():\n",
    "    cor_word = row['cor_word']\n",
    "    if type(cor_word) == str:\n",
    "        if '-' in cor_word:\n",
    "            if len(row['err_word'].split()) >= 2:\n",
    "                sp += 1\n",
    "                print(row['cor_word'], row['err_word'])\n",
    "            else:\n",
    "                t += 1\n",
    "        else:\n",
    "            pass\n",
    "            #print(row['cor_word'], row['err_word'])\n",
    "    else:\n",
    "        nan += 1"
   ]
  },
  {
   "cell_type": "code",
   "execution_count": 19,
   "metadata": {},
   "outputs": [
    {
     "name": "stdout",
     "output_type": "stream",
     "text": [
      "136 21\n"
     ]
    }
   ],
   "source": [
    "print(sp, t)"
   ]
  },
  {
   "cell_type": "code",
   "execution_count": 1,
   "metadata": {},
   "outputs": [
    {
     "data": {
      "text/plain": [
       "'{\"rows\": [{\"corrs\": \"приватизацией\", \"updated\": \"2018-11-30T10:19:55+00:00\", \"created\": \"2018-08-23T15:55:24+00:00\", \"quote\": \"приватизации\", \"tags\": [\"Gov\", \"AgrCase\"], \"ranges\": [{\"start\": \"/span[12]\", \"end\": \"/span[12]\", \"startOffset\": 0, \"endOffset\": 13}], \"readonly\": true, \"text\": \"\", \"document\": 64823, \"id\": \"c6e0960d-9408-4133-a15f-c55bba905f57\"}, {\"corrs\": \"территорий\", \"updated\": \"2018-08-23T15:55:41+00:00\", \"created\": \"2018-08-23T15:55:41+00:00\", \"quote\": \"территории\", \"tags\": [\"Ortho\", \"Infl\"], \"ranges\": [{\"start\": \"/span[14]\", \"end\": \"/span[14]\", \"startOffset\": 0, \"endOffset\": 10}], \"readonly\": true, \"text\": \"\", \"document\": 64823, \"id\": \"4bfd309a-7c37-4594-91bb-98f4adadefe7\"}, {\"corrs\": \"связаны\", \"updated\": \"2018-08-23T15:55:02+00:00\", \"created\": \"2018-08-23T15:55:02+00:00\", \"quote\": \"связанной\", \"tags\": [\"Brev\"], \"ranges\": [{\"start\": \"/span[8]\", \"end\": \"/span[8]\", \"startOffset\": 0, \"endOffset\": 10}], \"readonly\": true, \"text\": \"\", \"document\": 64823, \"id\": \"924d9486-9b7d-4734-9003-ea66c3064ae6\"}], \"total\": 3}'"
      ]
     },
     "execution_count": 1,
     "metadata": {},
     "output_type": "execute_result"
    }
   ],
   "source": [
    "u'{\"rows\": [{\"corrs\": \"\\u043f\\u0440\\u0438\\u0432\\u0430\\u0442\\u0438\\u0437\\u0430\\u0446\\u0438\\u0435\\u0439\", \"updated\": \"2018-11-30T10:19:55+00:00\", \"created\": \"2018-08-23T15:55:24+00:00\", \"quote\": \"\\u043f\\u0440\\u0438\\u0432\\u0430\\u0442\\u0438\\u0437\\u0430\\u0446\\u0438\\u0438\", \"tags\": [\"Gov\", \"AgrCase\"], \"ranges\": [{\"start\": \"/span[12]\", \"end\": \"/span[12]\", \"startOffset\": 0, \"endOffset\": 13}], \"readonly\": true, \"text\": \"\", \"document\": 64823, \"id\": \"c6e0960d-9408-4133-a15f-c55bba905f57\"}, {\"corrs\": \"\\u0442\\u0435\\u0440\\u0440\\u0438\\u0442\\u043e\\u0440\\u0438\\u0439\", \"updated\": \"2018-08-23T15:55:41+00:00\", \"created\": \"2018-08-23T15:55:41+00:00\", \"quote\": \"\\u0442\\u0435\\u0440\\u0440\\u0438\\u0442\\u043e\\u0440\\u0438\\u0438\", \"tags\": [\"Ortho\", \"Infl\"], \"ranges\": [{\"start\": \"/span[14]\", \"end\": \"/span[14]\", \"startOffset\": 0, \"endOffset\": 10}], \"readonly\": true, \"text\": \"\", \"document\": 64823, \"id\": \"4bfd309a-7c37-4594-91bb-98f4adadefe7\"}, {\"corrs\": \"\\u0441\\u0432\\u044f\\u0437\\u0430\\u043d\\u044b\", \"updated\": \"2018-08-23T15:55:02+00:00\", \"created\": \"2018-08-23T15:55:02+00:00\", \"quote\": \"\\u0441\\u0432\\u044f\\u0437\\u0430\\u043d\\u043d\\u043e\\u0439\", \"tags\": [\"Brev\"], \"ranges\": [{\"start\": \"/span[8]\", \"end\": \"/span[8]\", \"startOffset\": 0, \"endOffset\": 10}], \"readonly\": true, \"text\": \"\", \"document\": 64823, \"id\": \"924d9486-9b7d-4734-9003-ea66c3064ae6\"}], \"total\": 3}'"
   ]
  }
 ],
 "metadata": {
  "kernelspec": {
   "display_name": "Python 3",
   "language": "python",
   "name": "python3"
  },
  "language_info": {
   "codemirror_mode": {
    "name": "ipython",
    "version": 3
   },
   "file_extension": ".py",
   "mimetype": "text/x-python",
   "name": "python",
   "nbconvert_exporter": "python",
   "pygments_lexer": "ipython3",
   "version": "3.8.2"
  }
 },
 "nbformat": 4,
 "nbformat_minor": 4
}
